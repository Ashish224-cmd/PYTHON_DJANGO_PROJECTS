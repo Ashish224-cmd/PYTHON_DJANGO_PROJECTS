{
 "cells": [
  {
   "cell_type": "markdown",
   "metadata": {},
   "source": [
    "15 APRIL"
   ]
  },
  {
   "cell_type": "code",
   "execution_count": null,
   "metadata": {},
   "outputs": [],
   "source": [
    "pip install fsspec"
   ]
  },
  {
   "cell_type": "code",
   "execution_count": null,
   "metadata": {},
   "outputs": [],
   "source": [
    "import pandas as pd\n",
    "import numpy as np\n",
    "\n",
    "# Create a sample DataFrame\n",
    "data = {\n",
    "    'A': [10, 20, 30, 40, 50],\n",
    "    'B': ['apple', 'banana', 'cherry', 'date', 'elderberry'],\n",
    "    'C': [1.1, 2.2, 3.3, 4.4, 5.5],\n",
    "    'D': [True, False, True, False, True]\n",
    "}\n",
    "df = pd.DataFrame(data, index=['row1', 'row2', 'row3', 'row4', 'row5'])\n",
    "\n",
    "# Examples using .loc (label-based indexing)\n",
    "\n",
    "# 1. Select a single row by label\n",
    "print(\"Example 1 (loc): Select row 'row2'\")\n",
    "print(df.loc['row2'])\n",
    "print(\"-\" * 20)\n",
    "\n",
    "# 2. Select multiple rows by label\n",
    "print(\"Example 2 (loc): Select rows 'row1' and 'row3'\")\n",
    "print(df.loc[['row1', 'row3']])\n",
    "print(\"-\" * 20)\n",
    "\n",
    "# 3. Select a single cell by row and column labels\n",
    "print(\"Example 3 (loc): Select cell at row 'row4', column 'B'\")\n",
    "print(df.loc['row4', 'B'])\n",
    "print(\"-\" * 20)\n",
    "\n",
    "# 4. Select a range of rows and columns by labels\n",
    "print(\"Example 4 (loc): Select rows 'row2' to 'row4', columns 'A' to 'C'\")\n",
    "print(df.loc['row2':'row4', 'A':'C'])\n",
    "print(\"-\" * 20)\n",
    "\n",
    "# 5. Select all rows with a specific column label\n",
    "print(\"Example 5 (loc): Select all rows, column 'C'\")\n",
    "print(df.loc[:, 'C'])\n",
    "print(\"-\" * 20)\n",
    "\n",
    "# Examples using .iloc (integer-based indexing)\n",
    "\n",
    "# 6. Select a single row by integer position\n",
    "print(\"Example 6 (iloc): Select row at index 1\")\n",
    "print(df.iloc[1])\n",
    "print(\"-\" * 20)\n",
    "\n",
    "# 7. Select multiple rows by integer positions\n",
    "print(\"Example 7 (iloc): Select rows at indices 0 and 2\")\n",
    "print(df.iloc[[0, 2]])\n",
    "print(\"-\" * 20)\n",
    "\n",
    "# 8. Select a single cell by row and column integer positions\n",
    "print(\"Example 8 (iloc): Select cell at row index 3, column index 1\")\n",
    "print(df.iloc[3, 1])\n",
    "print(\"-\" * 20)\n",
    "\n",
    "# 9. Select a range of rows and columns by integer positions\n",
    "print(\"Example 9 (iloc): Select rows at indices 1 to 3, columns at indices 0 to 2\")\n",
    "print(df.iloc[1:4, 0:3])\n",
    "print(\"-\" * 20)\n",
    "\n",
    "# 10. Select all rows with a specific column integer position\n",
    "print(\"Example 10 (iloc): Select all rows, column at index 2\")\n",
    "print(df.iloc[:, 2])\n",
    "print(\"-\" * 20)"
   ]
  },
  {
   "cell_type": "code",
   "execution_count": null,
   "metadata": {},
   "outputs": [],
   "source": [
    "import pandas as pd\n",
    "\n",
    "df = pd.read_csv(\"C://Users//hp//Documents//CSV_FILES//DATA1.csv\")\n",
    "print(df.loc[1,'name'])\n",
    "print(print(df.loc[2]))\n",
    "\n"
   ]
  },
  {
   "cell_type": "markdown",
   "metadata": {},
   "source": [
    "17 MARCH 2025"
   ]
  },
  {
   "cell_type": "code",
   "execution_count": null,
   "metadata": {},
   "outputs": [],
   "source": [
    "n=int(input(\"Enter a number:\"))\n",
    "d={x:x*x for x in range(1,n+1)}\n",
    "print(d)"
   ]
  },
  {
   "cell_type": "code",
   "execution_count": null,
   "metadata": {},
   "outputs": [],
   "source": [
    "d={'A':1,'B':2}\n",
    "print(sum(d.values()))\n",
    "key=input(\"Enter key:\")\n",
    "if key in d.keys():\n",
    "    print(f\"Key is present and value is {d[key]}\")\n",
    "else:\n",
    "    print(\"Key is not present\")"
   ]
  },
  {
   "cell_type": "code",
   "execution_count": null,
   "metadata": {},
   "outputs": [],
   "source": [
    "d1={'A':1,'B':2}\n",
    "print(d1.keys())\n",
    "print(d1.values())\n",
    "print(d1.items())\n",
    "d2={'C':3}\n",
    "d1.update(d2)\n",
    "print(\"Concatenated dictionary is:\",d1)"
   ]
  },
  {
   "cell_type": "code",
   "execution_count": null,
   "metadata": {},
   "outputs": [],
   "source": [
    "key=int(input(\"Enter key:\"))\n",
    "value=int(input(\"Enter value:\"))\n",
    "d={}\n",
    "d.update({key:value})\n",
    "print(\"updated dictionary is:\")\n",
    "print(d)"
   ]
  },
  {
   "cell_type": "code",
   "execution_count": null,
   "metadata": {},
   "outputs": [],
   "source": [
    "class Dog:\n",
    "    species = 'Canis familiaries'\n",
    "    def __init__(self,name,age):\n",
    "        self.name = name\n",
    "        self.age = age\n",
    "        \n",
    "    def bark(self):\n",
    "        print(f\"{self.name} says woof!\")\n",
    "        \n",
    "    @classmethod\n",
    "    def get_species(cls):\n",
    "        return cls.species\n",
    "        \n",
    "my_dog = Dog('Buddy',3)\n",
    "\n",
    "print(my_dog.age)\n",
    "print(my_dog.name)\n",
    "my_dog.bark()\n",
    "print(Dog.species)\n",
    "print()"
   ]
  },
  {
   "cell_type": "markdown",
   "metadata": {},
   "source": [
    "11 MARCH 2025"
   ]
  },
  {
   "cell_type": "code",
   "execution_count": null,
   "metadata": {},
   "outputs": [],
   "source": [
    "def sumofalldigits(n):\n",
    "    sum=0 \n",
    "    while(n>0):\n",
    "        s=n%10\n",
    "        sum=sum+s\n",
    "        n=n/10\n",
    "    print(\"Sum of all digit:\",sum )"
   ]
  },
  {
   "cell_type": "code",
   "execution_count": null,
   "metadata": {},
   "outputs": [],
   "source": [
    "def reverse_str(string):\n",
    "    reverse_string = \" \"\n",
    "    for x in string:\n",
    "        print(x)\n",
    "        reverse_string = x+reverse_string\n",
    "        print(reverse_string)\n",
    "    return reverse_string\n",
    "\n",
    "v = \"sameer\"\n",
    "y=reverse_str(v)\n",
    "print(y)\n"
   ]
  },
  {
   "cell_type": "code",
   "execution_count": null,
   "metadata": {},
   "outputs": [],
   "source": [
    "value1=\"Sameer\"\n",
    "value1=value1[::-1]\n",
    "    \n",
    "print(value1)"
   ]
  },
  {
   "cell_type": "code",
   "execution_count": null,
   "metadata": {},
   "outputs": [],
   "source": [
    "print(\"hello\")"
   ]
  },
  {
   "cell_type": "markdown",
   "metadata": {},
   "source": [
    "10 FEBURARY 2025"
   ]
  },
  {
   "cell_type": "code",
   "execution_count": null,
   "metadata": {},
   "outputs": [],
   "source": [
    "pip install pandas"
   ]
  },
  {
   "cell_type": "code",
   "execution_count": null,
   "metadata": {},
   "outputs": [],
   "source": [
    "#create empty dataframe\n",
    "import pandas as pd \n",
    "df = pd.DataFrame()\n",
    "print(df)"
   ]
  },
  {
   "cell_type": "code",
   "execution_count": null,
   "metadata": {},
   "outputs": [],
   "source": [
    "#create a DataFrame in pandas using list. \n",
    "import pandas as pd \n",
    "x = ['Python','Pandas'] \n",
    "df = pd.DataFrame(x) \n",
    "print(df)"
   ]
  },
  {
   "cell_type": "code",
   "execution_count": null,
   "metadata": {},
   "outputs": [],
   "source": [
    "#create a DataFrame from Dict of ndarrays/Lists\n",
    "import pandas as pd\n",
    "info = {'ID':[101,102,103],'Department':['B.Sc','B.Tech','M.Tech']}\n",
    "df = pd.DataFrame(info)\n",
    "print(df)"
   ]
  },
  {
   "cell_type": "code",
   "execution_count": null,
   "metadata": {},
   "outputs": [],
   "source": []
  },
  {
   "cell_type": "markdown",
   "metadata": {},
   "source": [
    "17 JANUARY 2025"
   ]
  },
  {
   "cell_type": "markdown",
   "metadata": {},
   "source": [
    "G4)PRINT INFINITE SEQUENCE USING GENERATORS."
   ]
  },
  {
   "cell_type": "code",
   "execution_count": null,
   "metadata": {},
   "outputs": [],
   "source": [
    "def infinite_sequence():\n",
    "    num=0\n",
    "    while True:\n",
    "        yield num\n",
    "        num += 1\n",
    "        \n",
    "seq = infinite_sequence()\n",
    "for i in range(10):\n",
    "    print(next(seq))\n",
    "    \n"
   ]
  },
  {
   "cell_type": "markdown",
   "metadata": {},
   "source": [
    "G3)PRINT FIBONACCI SERIES USING GENERATORS."
   ]
  },
  {
   "cell_type": "code",
   "execution_count": null,
   "metadata": {},
   "outputs": [],
   "source": [
    "def fibonacci_series(limit):\n",
    "    a, b = 0, 1 \n",
    "    while a <= limit:\n",
    "        yield a\n",
    "        a, b = b, a + b \n",
    "\n",
    "for number in fibonacci_series(100):\n",
    "    print(number)\n",
    "    "
   ]
  },
  {
   "cell_type": "markdown",
   "metadata": {},
   "source": [
    "G2)READING LARGE FILE USING GENERATOR"
   ]
  },
  {
   "cell_type": "code",
   "execution_count": null,
   "metadata": {},
   "outputs": [],
   "source": [
    "def read_large_file(file_name):\n",
    "    with open(file_name, encoding='utf-8') as file:\n",
    "        for line in file:\n",
    "            yield line.strip()\n",
    "\n",
    "# Usage\n",
    "for line in read_large_file('C://Users//hp//Documents//TEXT_FILES//sample.txt'):\n",
    "    print(line)\n"
   ]
  },
  {
   "cell_type": "markdown",
   "metadata": {},
   "source": [
    "G1)PRINT EVEN USING GENERATORS."
   ]
  },
  {
   "cell_type": "code",
   "execution_count": null,
   "metadata": {},
   "outputs": [],
   "source": [
    "def even_numbers(max_num):\n",
    "    num=2\n",
    "    while num<=max_num:\n",
    "        yield num\n",
    "        num += 2\n",
    "#using the generator\n",
    "for even in even_numbers(10):\n",
    "    print(even)"
   ]
  },
  {
   "cell_type": "markdown",
   "metadata": {},
   "source": [
    "16 JANUARY 2025"
   ]
  },
  {
   "cell_type": "markdown",
   "metadata": {},
   "source": [
    "l20)GET THE FREQUENCY OF THE ELEMENTS IN LIST."
   ]
  },
  {
   "cell_type": "code",
   "execution_count": null,
   "metadata": {},
   "outputs": [],
   "source": [
    "import collections\n",
    "a=input(\"list elements:\").split(\" \")\n",
    "b=list(map(int,a))\n",
    "print(b)\n",
    "count=collections.Counter(b)\n",
    "print(count)"
   ]
  },
  {
   "cell_type": "markdown",
   "metadata": {},
   "source": [
    "L19)READ A LIST OF WORDS AND RETURN THE LENGTH OF LONGEST ONE."
   ]
  },
  {
   "cell_type": "code",
   "execution_count": null,
   "metadata": {},
   "outputs": [],
   "source": [
    "a=input(\"Enter list:\").split(\" \")\n",
    "print(a)\n",
    "max1=len(a[0])\n",
    "temp=a[0]\n",
    "for i in a:\n",
    "    if len(i)>max1:\n",
    "        max1=len(i)\n",
    "        temp=i\n",
    "print(\"longest word in list:\",temp)"
   ]
  },
  {
   "cell_type": "markdown",
   "metadata": {},
   "source": [
    "L18)REMOVE THE DUPLICATES ITEM FROM LIST."
   ]
  },
  {
   "cell_type": "code",
   "execution_count": null,
   "metadata": {},
   "outputs": [],
   "source": [
    "a=input(\"list elements:\").split(\" \")\n",
    "b=list(map(int,a))\n",
    "print(b)\n",
    "c=set()\n",
    "unique=[]\n",
    "for i in b:\n",
    "    if i not in c:\n",
    "        unique.append(i)\n",
    "        c.add(i)\n",
    "print(\"non duplicate:\",unique)\n",
    "        \n",
    "    "
   ]
  },
  {
   "cell_type": "markdown",
   "metadata": {},
   "source": [
    "L17)SWAP THE FIRST AND LAST VALUE OF A LIST."
   ]
  },
  {
   "cell_type": "code",
   "execution_count": null,
   "metadata": {},
   "outputs": [],
   "source": [
    "a=input(\"Enter list elements:\").split(\" \")\n",
    "b=list(map(int,a))\n",
    "print(b)\n",
    "n=len(b)\n",
    "temp=b[0]\n",
    "b[0]=b[n-1]\n",
    "b[n-1]=temp\n",
    "print(\"new list is:\", b)\n"
   ]
  },
  {
   "cell_type": "markdown",
   "metadata": {},
   "source": [
    "L16)FIND ALL NUMBERS IN A RANGE WHICH ARE PERFECT SQUARES AND SUM OF ALL DIGITS IN THE NUMBER IS LESS THAN 10."
   ]
  },
  {
   "cell_type": "code",
   "execution_count": null,
   "metadata": {},
   "outputs": [],
   "source": [
    "l=int(input(\"Enter lower range: \"))\n",
    "u=int(input(\"Enter upper range:\"))\n",
    "a=[]\n",
    "a=[x for x in range(l,u+1) if (int(x**0.5))**2==x and sum(list(map(int,str(x))))<10]\n",
    "print(a)"
   ]
  },
  {
   "cell_type": "markdown",
   "metadata": {},
   "source": [
    "13 JANUARY 2025"
   ]
  },
  {
   "cell_type": "markdown",
   "metadata": {},
   "source": [
    "1)REPLACE ALL OCCURRENCES OF a with $ in a string"
   ]
  },
  {
   "cell_type": "code",
   "execution_count": null,
   "metadata": {},
   "outputs": [],
   "source": [
    "def replace_char(string,char_to_replace,replacement):\n",
    "    for char in char_to_replace:\n",
    "        string=string.replace(char,replacement)\n",
    "    return string\n",
    "\n",
    "string = input(\"enter string:\")\n",
    "print(string)\n",
    "chars_to_replace = input(\"Enter charracter list \").split()\n",
    "replacement = '#'\n",
    "output_string = replace_char(string,chars_to_replace,replacement)\n",
    "print(output_string)\n"
   ]
  },
  {
   "cell_type": "markdown",
   "metadata": {},
   "source": [
    "12 JANUARY 2025"
   ]
  },
  {
   "cell_type": "markdown",
   "metadata": {},
   "source": [
    "6)take two strings and display the larger string without using built in functions"
   ]
  },
  {
   "cell_type": "code",
   "execution_count": null,
   "metadata": {},
   "outputs": [],
   "source": [
    "string1=input(\"enter two string1:\")\n",
    "print(string1)\n",
    "string2=input(\"enter second string2:\")\n",
    "print(string2)\n",
    "count1=0\n",
    "count2=0\n",
    "for i in string1:\n",
    "    count1=count1+1\n",
    "for j in string2:\n",
    "    count2=count2+1\n",
    "if(count1<count2):\n",
    "    print(\"larger string:\",string2)\n",
    "elif(count1==count2):\n",
    "    print(\"Strings are equal\")\n",
    "else:\n",
    "    print(\"Larger string:\",string1)"
   ]
  },
  {
   "cell_type": "markdown",
   "metadata": {},
   "source": [
    "5)calculate the number of words and the number of characters present in a string"
   ]
  },
  {
   "cell_type": "code",
   "execution_count": null,
   "metadata": {},
   "outputs": [],
   "source": [
    "string = input(\"Enter string:\")\n",
    "print(string)\n",
    "char = 0\n",
    "word = 1\n",
    "for i in string:\n",
    "    char = char+1\n",
    "    if(i==' '):\n",
    "        word=word+1\n",
    "print(\"Number of words in the string:\")\n",
    "print(word)\n",
    "print(\"Number of characters in the string:\")\n",
    "print(char)"
   ]
  },
  {
   "cell_type": "markdown",
   "metadata": {},
   "source": [
    "4)Remove the CHaracters of odd Index Values in a String"
   ]
  },
  {
   "cell_type": "code",
   "execution_count": null,
   "metadata": {},
   "outputs": [],
   "source": [
    "def modify(string):\n",
    "    final = \" \"\n",
    "    for i in range(len(string)):\n",
    "        if i%2==0:\n",
    "            final=final+string[i]\n",
    "    return final\n",
    "\n",
    "string=input(\"Enter string:\")\n",
    "print(\"Modified string is:\")\n",
    "print(modify(string))"
   ]
  },
  {
   "cell_type": "markdown",
   "metadata": {},
   "source": [
    "3)calculate the length of a string without using a library function."
   ]
  },
  {
   "cell_type": "code",
   "execution_count": null,
   "metadata": {},
   "outputs": [],
   "source": [
    "string = input(\"Enter string\")\n",
    "print(string)\n",
    "count=0\n",
    "for i in string:\n",
    "    count=count+1\n",
    "print(\"length of string is:\")\n",
    "print(count)"
   ]
  },
  {
   "cell_type": "markdown",
   "metadata": {},
   "source": [
    "2)Taken string and replace every blank space with hypen."
   ]
  },
  {
   "cell_type": "code",
   "execution_count": null,
   "metadata": {},
   "outputs": [],
   "source": [
    "string = input(\"enter string:\")\n",
    "print(string)\n",
    "string = string.replace(' ','#')\n",
    "print(\"Modified string:\")\n",
    "print(string)\n"
   ]
  },
  {
   "cell_type": "markdown",
   "metadata": {},
   "source": [
    "1)count the number of vowels in a string"
   ]
  },
  {
   "cell_type": "code",
   "execution_count": null,
   "metadata": {},
   "outputs": [],
   "source": [
    "string=input(\"enter string:\")\n",
    "print(string)\n",
    "vowels=0\n",
    "for i in string:\n",
    "    if(i=='a' or i=='e' or i=='i' or i=='o' or i=='u' or i=='A' or i=='E' or i=='I' or i=='U'):\n",
    "        vowels=vowels+1\n",
    "print(\"Numbers of vowels are:\")\n",
    "print(vowels)"
   ]
  }
 ],
 "metadata": {
  "kernelspec": {
   "display_name": "Python 3",
   "language": "python",
   "name": "python3"
  },
  "language_info": {
   "codemirror_mode": {
    "name": "ipython",
    "version": 3
   },
   "file_extension": ".py",
   "mimetype": "text/x-python",
   "name": "python",
   "nbconvert_exporter": "python",
   "pygments_lexer": "ipython3",
   "version": "3.13.1"
  }
 },
 "nbformat": 4,
 "nbformat_minor": 2
}
